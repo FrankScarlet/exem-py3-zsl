{
 "cells": [
  {
   "cell_type": "code",
   "execution_count": 1,
   "metadata": {},
   "outputs": [],
   "source": [
    "import numpy as np \n",
    "\n",
    "import matplotlib.pyplot as plt\n",
    "from mpl_toolkits.mplot3d import Axes3D\n",
    "\n",
    "from sklearn import decomposition\n",
    "from sklearn import datasets\n",
    "from sklearn.model_selection import train_test_split\n",
    "from sklearn.neighbors import KNeighborsClassifier\n",
    "\n",
    "# different regressor test\n",
    "\n",
    "from sklearn.ensemble import GradientBoostingRegressor\n",
    "from sklearn.svm import NuSVR, SVR, LinearSVR \n",
    "from sklearn.linear_model import Lasso, Ridge, LinearRegression\n",
    "\n",
    "import pandas as pd # process txt\n",
    "from scipy.io import loadmat\n",
    "from PIL import Image\n",
    "\n",
    "from collections import defaultdict"
   ]
  },
  {
   "cell_type": "code",
   "execution_count": 2,
   "metadata": {},
   "outputs": [
    {
     "name": "stdout",
     "output_type": "stream",
     "text": [
      "standard_split: 645 72\n",
      "proposed_split: 645 72\n"
     ]
    }
   ],
   "source": [
    "folder = \"G:/dataset/sun/\"\n",
    "\n",
    "standard_path = \"G:/dataset/standard_split/SUN/\"\n",
    "proposed_path = \"G:/dataset/proposed_split/SUN/\"\n",
    "\n",
    "\n",
    "cls_to_idx = {}\n",
    "cnt = 0 \n",
    "with open(standard_path + \"allclasses.txt\", \"r\", encoding='utf-8') as f: # TBD\n",
    "     for row in f.readlines():\n",
    "         row = row.rstrip()\n",
    "         cls_to_idx[row] = cnt\n",
    "         cnt = cnt + 1\n",
    "\n",
    "sstrain, sstest = [], []\n",
    "pstrain, pstest = [], []\n",
    "\n",
    "# Standard Split \n",
    "with open(standard_path + \"trainvalclasses.txt\", \"r\", encoding='utf-8') as f:\n",
    "    for row in f.readlines():\n",
    "        row = row.rstrip()\n",
    "        sstrain.append(cls_to_idx[row])\n",
    "\n",
    "with open(standard_path + \"testclasses.txt\", \"r\", encoding='utf-8') as f:\n",
    "    for row in f.readlines():\n",
    "        row = row.rstrip()\n",
    "        sstest.append(cls_to_idx[row])\n",
    "\n",
    "print(\"standard_split:\", len(sstrain), len(sstest))\n",
    "# transform List(str) -> List(int)\n",
    "\n",
    "# Proposed Split\n",
    "with open(proposed_path + \"trainvalclasses.txt\", \"r\", encoding='utf-8') as f:\n",
    "    for row in f.readlines():\n",
    "        row = row.rstrip()\n",
    "        pstrain.append(cls_to_idx[row])\n",
    "\n",
    "with open(proposed_path + \"testclasses.txt\", \"r\", encoding='utf-8') as f:\n",
    "    for row in f.readlines():\n",
    "        row = row.rstrip()\n",
    "        pstest.append(cls_to_idx[row])\n",
    "\n",
    "print(\"proposed_split:\", len(pstrain), len(pstest))\n",
    "\n",
    "# Random Train & Test Class Split\n",
    "\n",
    "train_class, test_class = [], [] \n",
    "X_class = list(range(717)) # label start from 0, you can adjust it\n",
    "train_class, test_class = train_test_split(X_class, test_size=0.2)\n",
    "\n",
    "# len(train_class), len(test_class) == (573, 144)\n",
    "\n",
    "train_class, test_class = sstrain, sstest\n",
    "train_class, test_class = pstrain, pstest\n",
    "\n"
   ]
  },
  {
   "cell_type": "code",
   "execution_count": 3,
   "metadata": {},
   "outputs": [
    {
     "name": "stdout",
     "output_type": "stream",
     "text": [
      "3, 622, 420, 482, 695, 298, 152, 679, 103, 509, 674, 95, 711, 645, 681, 517, 145, 85, 138, 631, 216, 425, 53, 558, 423, 72, 99, 130, 10, 440, 24, 336, 353, 658, 57, 245, 381, 286, 75, 124, 650, 196, 262, 342, 74, 254, 246, 448, 529, 656, 259, 221, 635, 112, 38, 580, 715, 237, 32, 23, 493, 328, 471, 712, 184, 358, 508, 379, 710, 315, 158, 560\n"
     ]
    }
   ],
   "source": [
    "print(*test_class, sep = \", \")"
   ]
  },
  {
   "cell_type": "code",
   "execution_count": 4,
   "metadata": {},
   "outputs": [
    {
     "name": "stdout",
     "output_type": "stream",
     "text": [
      "(12900, 2048) (12900,)\n",
      "(1440, 2048) (1440,)\n"
     ]
    }
   ],
   "source": [
    "class sunRead:\n",
    "    def __init__(self, p, train_split):\n",
    "        \"\"\"\n",
    "        p: 数据集存放路径\n",
    "        train_split: 给出训练集\n",
    "        \"\"\"\n",
    "        X_class = list(range(717))\n",
    "        train_class = train_split\n",
    "        test_class = list(filter(lambda i: i not in train_class, X_class))\n",
    "        self.path = p\n",
    "        # labels\n",
    "        yp = self.path + \"custom-sun-labels.txt\"\n",
    "        y = np.loadtxt(yp, delimiter=\" \", encoding='utf-8')\n",
    "        # visual features 2048 dimensions\n",
    "        xp = self.path + \"sun-features.txt\"\n",
    "        x = np.loadtxt(xp, delimiter=\" \", encoding='utf-8')\n",
    "        i1 = np.isin(y, train_class)\n",
    "        i2 = np.isin(y, test_class)\n",
    "        self.X_train, self.X_test = x[i1], x[i2]\n",
    "        self.y_train, self.y_test = y[i1], y[i2]\n",
    "    def train_data(self):\n",
    "        return self.X_train, self.y_train\n",
    "    def test_data(self):\n",
    "        return self.X_test, self.y_test\n",
    "    def test(self): # 11788 all, add them to test\n",
    "        print(self.X_train.shape, self.y_train.shape)\n",
    "        print(self.X_test.shape, self.y_test.shape)\n",
    "\n",
    "sunReader = sunRead(folder, train_class)\n",
    "sunReader.test()\n",
    "# custom\n",
    "# standard 12900 + 1440"
   ]
  },
  {
   "cell_type": "code",
   "execution_count": 5,
   "metadata": {},
   "outputs": [
    {
     "data": {
      "text/plain": [
       "((12900, 500), (12900,), (1440, 500), (1440,))"
      ]
     },
     "execution_count": 5,
     "metadata": {},
     "output_type": "execute_result"
    }
   ],
   "source": [
    "X_train, y_train = sunReader.train_data()\n",
    "X_test, y_test = sunReader.test_data()\n",
    "#X_train.shape, y_train.shape, X_test.shape, y_test.shape\n",
    "pca_d = 500\n",
    "\n",
    "exemPCA = decomposition.PCA(n_components=pca_d)\n",
    "exemPCA.fit(X_train)\n",
    "X_train = exemPCA.transform(X_train)\n",
    "X_test = exemPCA.transform(X_test)\n",
    "X_train.shape, y_train.shape, X_test.shape, y_test.shape"
   ]
  },
  {
   "cell_type": "code",
   "execution_count": 6,
   "metadata": {},
   "outputs": [],
   "source": [
    "# group up PCA projections\n",
    "\n",
    "exem_train_group = defaultdict(list)\n",
    "\n",
    "for c in train_class:\n",
    "    exem_train_group[c] = []\n",
    "        \n",
    "for x, y in zip(X_train, y_train):\n",
    "    exem_train_group[y].append(x)\n",
    "\n",
    "\n",
    "# Average\n",
    "exem_train = {}\n",
    "std_train = {}\n",
    "k = 0\n",
    "\n",
    "for item in exem_train_group.items():\n",
    "    y, ary = item\n",
    "    exem_train[y] = np.mean(ary, axis=0) # Key Sentence\n",
    "    std_train[y] = np.std(ary, axis=0)\n",
    "\n",
    "del exem_train_group\n",
    "\n",
    "# semantic embedding of SUN, 717 scenes, 102 attributes\n",
    "# fork s.e. from essay \"evaluation\"\n",
    "#se = folder + \"sun_se_continuous.txt\"\n",
    "\n",
    "att = loadmat(standard_path + \"att_splits.mat\")\n",
    "#semat = att['att'].T # transpose\n",
    "semat = att['att_original']\n",
    "\n",
    "\n",
    "# class to index, the same\n",
    "a_c_train, a_c_test = semat[train_class], semat[test_class]\n",
    "v_c_train = [exem_train[i] for i in train_class] # dict uses classes to index\n",
    "sd_train = [std_train[i] for i in train_class]\n",
    "sd_train = np.mean(sd_train, axis=0)"
   ]
  },
  {
   "cell_type": "code",
   "execution_count": 7,
   "metadata": {},
   "outputs": [
    {
     "data": {
      "text/plain": [
       "array([[0.        , 0.08333333, 0.08333333, ..., 0.01666667, 0.05      ,\n",
       "        0.01666667],\n",
       "       [0.01666667, 0.78333333, 0.71666667, ..., 0.01666667, 0.06666667,\n",
       "        0.01666667],\n",
       "       [0.        , 0.06666667, 0.18333333, ..., 0.01666667, 0.08333333,\n",
       "        0.08333333],\n",
       "       ...,\n",
       "       [0.        , 0.08333333, 0.08333333, ..., 0.01666667, 0.33333333,\n",
       "        0.01666667],\n",
       "       [0.        , 0.2       , 0.1       , ..., 0.03333333, 0.08333333,\n",
       "        0.06666667],\n",
       "       [0.05      , 0.        , 0.01666667, ..., 0.05      , 0.11666667,\n",
       "        0.        ]])"
      ]
     },
     "execution_count": 7,
     "metadata": {},
     "output_type": "execute_result"
    }
   ],
   "source": [
    "semat"
   ]
  },
  {
   "cell_type": "code",
   "execution_count": 8,
   "metadata": {},
   "outputs": [
    {
     "data": {
      "text/plain": [
       "((645, 102), (645, 500), (500,))"
      ]
     },
     "execution_count": 8,
     "metadata": {},
     "output_type": "execute_result"
    }
   ],
   "source": [
    "np.array(a_c_train).shape, np.array(v_c_train).shape, np.array(sd_train).shape"
   ]
  },
  {
   "cell_type": "code",
   "execution_count": 9,
   "metadata": {},
   "outputs": [
    {
     "name": "stdout",
     "output_type": "stream",
     "text": [
      "1NN:0.6048611111111111 \n",
      "1NNs:0.6284722222222222\n"
     ]
    }
   ],
   "source": [
    "# c = 2 ^ -3, nu = 2^0, gamma = 2 ^ -1\n",
    "regress_group = []\n",
    "k = 0\n",
    "for j in range(pca_d):\n",
    "    X = a_c_train # \n",
    "    y = [vc[j] for vc in v_c_train]\n",
    "    regressor = Ridge()\n",
    "    regressor.fit(X, y)\n",
    "    regress_group.append(regressor)\n",
    "\n",
    "v_c_test = np.zeros((72, pca_d)) # 提前定义好exemplar矩阵, \n",
    "# 对每一个维度进行预测\n",
    "for j in range(pca_d):\n",
    "    v_c_test[:, j] =  regress_group[j].predict(a_c_test) # 10 dimension , assign to column\n",
    "\n",
    "v_c_test.shape, len(v_c_train), len(v_c_train[0])\n",
    "\n",
    "\n",
    "exem_X, exem_y = [], []\n",
    "\n",
    "for i, c in enumerate(test_class):\n",
    "    exem_X.append(v_c_test[i])\n",
    "    exem_y.append(c)\n",
    "\n",
    "neigh = KNeighborsClassifier(n_neighbors=1)\n",
    "neigh.fit(exem_X, exem_y)\n",
    "print(\"1NN:{} \".format(neigh.score(X_test, y_test)))\n",
    "\n",
    "sneigh = KNeighborsClassifier(n_neighbors=1, metric='seuclidean', \n",
    "                    metric_params={'V':sd_train})\n",
    "sneigh.fit(exem_X, exem_y)\n",
    "print(\"1NNs:{}\".format(sneigh.score(X_test, y_test)))\n"
   ]
  },
  {
   "cell_type": "code",
   "execution_count": 10,
   "metadata": {},
   "outputs": [
    {
     "data": {
      "text/plain": [
       "(array([-1.91394373,  6.15955633,  4.16936191,  2.71024412,  0.90121109,\n",
       "         1.53513074, -4.27987195, -0.48029197, -1.23852818,  3.95271928,\n",
       "         2.24909257,  2.14895236,  1.24080688, -1.1458303 , -9.84945923,\n",
       "        -5.53675212,  0.42637562,  0.29126825,  3.16931042, 10.5324946 ,\n",
       "        -4.82219387, -1.58007511,  5.09256182, -8.89646887,  8.40320758,\n",
       "        -9.36061805,  0.98293545, -1.57453961,  1.72512778,  7.27115049,\n",
       "         5.50767091,  3.90561563, -0.68071308, -0.49173012,  2.55778431,\n",
       "        -2.58620555, -4.97099022, -1.53825112, -2.76908637, -1.89445717,\n",
       "         0.6551227 , -3.88476935,  1.44584843,  2.23864585,  0.97534534,\n",
       "         0.70201031,  0.62167916, -1.58063794, -0.11265385,  2.12906199,\n",
       "        -3.92280259,  0.31006548, -2.19845982, -5.78770454,  8.61280647,\n",
       "        -0.45100098,  5.61953623,  2.70893663,  0.09773444,  1.04984553,\n",
       "        -6.86301107,  4.1153905 , -5.08518191, -2.40147621, -4.01201145,\n",
       "         2.07371221, -1.31131453, -4.14664062, -2.2900075 , -1.2599546 ,\n",
       "        12.27592359, -0.01749006]),\n",
       " (72,),\n",
       " array([-3.91236762,  3.33537906,  4.14507853, -1.13551461, -0.34044276,\n",
       "        -1.8662262 ,  2.22156916,  3.72698791, -3.80259538,  5.55598973,\n",
       "        -0.13002602,  2.97351199, -3.82393833,  5.95089309,  1.47090667,\n",
       "         0.76897068,  1.39784614,  4.42205808,  1.78955558, -1.15092914,\n",
       "        -0.99492594,  1.72453991, -0.05615928,  4.61924499,  2.10038898,\n",
       "        -2.53347752, -0.87765934, -4.06243874, -1.13296705,  1.3584185 ,\n",
       "        -0.2149468 , -0.34854939, -6.32604731, -1.66252858, -3.81436299,\n",
       "        -4.21813432,  6.73611124, -2.96295948,  8.66012879, -1.41435659,\n",
       "        -5.56222277,  0.61276559,  0.9208552 , -3.94690755,  8.45852435,\n",
       "         2.49105168,  5.30560269,  0.36360543,  4.99824393, -1.24963154,\n",
       "        -0.48142168, -2.8627741 ,  0.29376714, -1.13110198,  1.24238319,\n",
       "        -1.95694463, -1.53435516, -2.64927943, -1.61182178, -2.1106125 ,\n",
       "         1.57339197, -2.24496828,  1.71220232,  5.68718324,  0.00910881,\n",
       "         5.09207084, -5.0554915 , -4.32842485,  0.37664143, -5.89026103,\n",
       "         2.6012969 ,  2.345274  ]))"
      ]
     },
     "execution_count": 10,
     "metadata": {},
     "output_type": "execute_result"
    }
   ],
   "source": [
    "regress_group[4].predict(a_c_test), regress_group[4].predict(a_c_test).shape, regress_group[5].predict(a_c_test)"
   ]
  },
  {
   "cell_type": "code",
   "execution_count": 11,
   "metadata": {},
   "outputs": [],
   "source": [
    "## Save Exemplars and visual features of test class\n",
    "save_path = \"./ridge_exem/\"\n",
    "np.save(save_path + \"exem_test.npy\", np.array(exem_X))\n",
    "np.save(save_path + \"X_test.npy\", X_test)\n",
    "np.savetxt(save_path + \"y_test.txt\", np.array(y_test, dtype=int), fmt='%s', encoding='utf-8')"
   ]
  },
  {
   "cell_type": "code",
   "execution_count": 12,
   "metadata": {},
   "outputs": [],
   "source": [
    "# accuracy = neigh.score(X_test, y_test) # deprecated\n",
    "# accuracy\n",
    "# 4.8\n",
    "# ZSL 0.44513888888888886\n",
    "# GZSL 0.15381944444444445\n",
    "\n",
    "# 4.13 Standard Split\n",
    "# ZSL 0.575\n",
    "# GZSL 0.14166666666666666\n",
    "\n",
    "# 4.14 Standard Split with better ResNet101 features\n",
    "# ZSL \n",
    "# 0.6215277777777778 nu-SVR C=2\n",
    "# 0.6013888888888889 SVR\n",
    "# 0.5972222222222222 nu-SVR default\n",
    "# 0.5736111111111111 LinearSVR\n",
    "# 0.6305555555555555 Lasso\n",
    "# 0.5854166666666667 Ridge\n",
    "\n",
    "# 4.16 Proposed Split \n",
    "# 0.5854166666666667 Ridge\n",
    "# 0.597 nu-svr default\n",
    "# 0.6215277777777778 nu-svr C=2"
   ]
  }
 ],
 "metadata": {
  "kernelspec": {
   "display_name": "Python 3",
   "language": "python",
   "name": "python3"
  },
  "language_info": {
   "codemirror_mode": {
    "name": "ipython",
    "version": 3
   },
   "file_extension": ".py",
   "mimetype": "text/x-python",
   "name": "python",
   "nbconvert_exporter": "python",
   "pygments_lexer": "ipython3",
   "version": "3.7.5"
  }
 },
 "nbformat": 4,
 "nbformat_minor": 4
}
